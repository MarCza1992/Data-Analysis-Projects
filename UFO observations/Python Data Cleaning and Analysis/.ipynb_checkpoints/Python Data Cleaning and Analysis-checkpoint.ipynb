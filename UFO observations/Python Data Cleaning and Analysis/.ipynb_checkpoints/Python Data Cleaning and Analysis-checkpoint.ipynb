{
 "cells": [
  {
   "cell_type": "markdown",
   "id": "3b0833de-7bae-4ee7-b137-882e5bfb02b9",
   "metadata": {
    "jp-MarkdownHeadingCollapsed": true
   },
   "source": [
    "# Libraries"
   ]
  },
  {
   "cell_type": "code",
   "execution_count": 1,
   "id": "bc4fdc02-0949-4813-bc8c-887b25bdba64",
   "metadata": {},
   "outputs": [],
   "source": [
    "import pandas as pd\n",
    "import numpy as np\n",
    "import matplotlib.pyplot as plt\n",
    "import seaborn as sns"
   ]
  },
  {
   "cell_type": "markdown",
   "id": "c2b34974-f22f-4876-a0a4-ca695838b444",
   "metadata": {
    "jp-MarkdownHeadingCollapsed": true
   },
   "source": [
    "# Importing Data"
   ]
  },
  {
   "cell_type": "code",
   "execution_count": 2,
   "id": "ec9b3ddc-208d-43fb-9938-6d971093dd9e",
   "metadata": {},
   "outputs": [],
   "source": [
    "df = pd.read_excel('UFO observation statistics.xlsx')"
   ]
  },
  {
   "cell_type": "code",
   "execution_count": 3,
   "id": "ed4e1828-17bc-417f-aa95-c9f3331feb51",
   "metadata": {},
   "outputs": [
    {
     "name": "stdout",
     "output_type": "stream",
     "text": [
      "<class 'pandas.core.frame.DataFrame'>\n",
      "RangeIndex: 80332 entries, 0 to 80331\n",
      "Data columns (total 11 columns):\n",
      " #   Column                Non-Null Count  Dtype         \n",
      "---  ------                --------------  -----         \n",
      " 0   datetime              80332 non-null  datetime64[ns]\n",
      " 1   city                  80332 non-null  object        \n",
      " 2   state                 74535 non-null  object        \n",
      " 3   country               70662 non-null  object        \n",
      " 4   shape                 78400 non-null  object        \n",
      " 5   duration (seconds)    80332 non-null  object        \n",
      " 6   duration (hours/min)  80331 non-null  object        \n",
      " 7   comments              80316 non-null  object        \n",
      " 8   date posted           80332 non-null  datetime64[ns]\n",
      " 9   latitude              80332 non-null  object        \n",
      " 10  longitude             80332 non-null  float64       \n",
      "dtypes: datetime64[ns](2), float64(1), object(8)\n",
      "memory usage: 6.7+ MB\n"
     ]
    }
   ],
   "source": [
    "df.info()"
   ]
  },
  {
   "cell_type": "code",
   "execution_count": 4,
   "id": "de83fd8a-1f25-4c75-8b0d-cecfdbc2603b",
   "metadata": {
    "scrolled": true
   },
   "outputs": [
    {
     "data": {
      "text/html": [
       "<div>\n",
       "<style scoped>\n",
       "    .dataframe tbody tr th:only-of-type {\n",
       "        vertical-align: middle;\n",
       "    }\n",
       "\n",
       "    .dataframe tbody tr th {\n",
       "        vertical-align: top;\n",
       "    }\n",
       "\n",
       "    .dataframe thead th {\n",
       "        text-align: right;\n",
       "    }\n",
       "</style>\n",
       "<table border=\"1\" class=\"dataframe\">\n",
       "  <thead>\n",
       "    <tr style=\"text-align: right;\">\n",
       "      <th></th>\n",
       "      <th>datetime</th>\n",
       "      <th>city</th>\n",
       "      <th>state</th>\n",
       "      <th>country</th>\n",
       "      <th>shape</th>\n",
       "      <th>duration (seconds)</th>\n",
       "      <th>duration (hours/min)</th>\n",
       "      <th>comments</th>\n",
       "      <th>date posted</th>\n",
       "      <th>latitude</th>\n",
       "      <th>longitude</th>\n",
       "    </tr>\n",
       "  </thead>\n",
       "  <tbody>\n",
       "    <tr>\n",
       "      <th>0</th>\n",
       "      <td>1949-10-10 20:30:00</td>\n",
       "      <td>san marcos</td>\n",
       "      <td>tx</td>\n",
       "      <td>us</td>\n",
       "      <td>cylinder</td>\n",
       "      <td>2700</td>\n",
       "      <td>45 minutes</td>\n",
       "      <td>This event took place in early fall around 194...</td>\n",
       "      <td>2004-04-27</td>\n",
       "      <td>29.883056</td>\n",
       "      <td>-97.941111</td>\n",
       "    </tr>\n",
       "    <tr>\n",
       "      <th>1</th>\n",
       "      <td>1949-10-10 21:00:00</td>\n",
       "      <td>lackland afb</td>\n",
       "      <td>tx</td>\n",
       "      <td>NaN</td>\n",
       "      <td>light</td>\n",
       "      <td>7200</td>\n",
       "      <td>1-2 hrs</td>\n",
       "      <td>1949 Lackland AFB&amp;#44 TX.  Lights racing acros...</td>\n",
       "      <td>2005-12-16</td>\n",
       "      <td>29.38421</td>\n",
       "      <td>-98.581082</td>\n",
       "    </tr>\n",
       "    <tr>\n",
       "      <th>2</th>\n",
       "      <td>1955-10-10 17:00:00</td>\n",
       "      <td>chester (uk/england)</td>\n",
       "      <td>NaN</td>\n",
       "      <td>gb</td>\n",
       "      <td>circle</td>\n",
       "      <td>20</td>\n",
       "      <td>20 seconds</td>\n",
       "      <td>Green/Orange circular disc over Chester&amp;#44 En...</td>\n",
       "      <td>2008-01-21</td>\n",
       "      <td>53.2</td>\n",
       "      <td>-2.916667</td>\n",
       "    </tr>\n",
       "    <tr>\n",
       "      <th>3</th>\n",
       "      <td>1956-10-10 21:00:00</td>\n",
       "      <td>edna</td>\n",
       "      <td>tx</td>\n",
       "      <td>us</td>\n",
       "      <td>circle</td>\n",
       "      <td>20</td>\n",
       "      <td>1/2 hour</td>\n",
       "      <td>My older brother and twin sister were leaving ...</td>\n",
       "      <td>2004-01-17</td>\n",
       "      <td>28.978333</td>\n",
       "      <td>-96.645833</td>\n",
       "    </tr>\n",
       "    <tr>\n",
       "      <th>4</th>\n",
       "      <td>1960-10-10 20:00:00</td>\n",
       "      <td>kaneohe</td>\n",
       "      <td>hi</td>\n",
       "      <td>us</td>\n",
       "      <td>light</td>\n",
       "      <td>900</td>\n",
       "      <td>15 minutes</td>\n",
       "      <td>AS a Marine 1st Lt. flying an FJ4B fighter/att...</td>\n",
       "      <td>2004-01-22</td>\n",
       "      <td>21.418056</td>\n",
       "      <td>-157.803611</td>\n",
       "    </tr>\n",
       "    <tr>\n",
       "      <th>5</th>\n",
       "      <td>1961-10-10 19:00:00</td>\n",
       "      <td>bristol</td>\n",
       "      <td>tn</td>\n",
       "      <td>us</td>\n",
       "      <td>sphere</td>\n",
       "      <td>300</td>\n",
       "      <td>5 minutes</td>\n",
       "      <td>My father is now 89 my brother 52 the girl wit...</td>\n",
       "      <td>2007-04-27</td>\n",
       "      <td>36.595</td>\n",
       "      <td>-82.188889</td>\n",
       "    </tr>\n",
       "    <tr>\n",
       "      <th>6</th>\n",
       "      <td>1965-10-10 21:00:00</td>\n",
       "      <td>penarth (uk/wales)</td>\n",
       "      <td>NaN</td>\n",
       "      <td>gb</td>\n",
       "      <td>circle</td>\n",
       "      <td>180</td>\n",
       "      <td>about 3 mins</td>\n",
       "      <td>penarth uk  circle  3mins  stayed 30ft above m...</td>\n",
       "      <td>2006-02-14</td>\n",
       "      <td>51.434722</td>\n",
       "      <td>-3.180000</td>\n",
       "    </tr>\n",
       "    <tr>\n",
       "      <th>7</th>\n",
       "      <td>1965-10-10 23:45:00</td>\n",
       "      <td>norwalk</td>\n",
       "      <td>ct</td>\n",
       "      <td>us</td>\n",
       "      <td>disk</td>\n",
       "      <td>1200</td>\n",
       "      <td>20 minutes</td>\n",
       "      <td>A bright orange color changing to reddish colo...</td>\n",
       "      <td>1999-10-02</td>\n",
       "      <td>41.1175</td>\n",
       "      <td>-73.408333</td>\n",
       "    </tr>\n",
       "    <tr>\n",
       "      <th>8</th>\n",
       "      <td>1966-10-10 20:00:00</td>\n",
       "      <td>pell city</td>\n",
       "      <td>al</td>\n",
       "      <td>us</td>\n",
       "      <td>disk</td>\n",
       "      <td>180</td>\n",
       "      <td>3  minutes</td>\n",
       "      <td>Strobe Lighted disk shape object observed clos...</td>\n",
       "      <td>2009-03-19</td>\n",
       "      <td>33.586111</td>\n",
       "      <td>-86.286111</td>\n",
       "    </tr>\n",
       "    <tr>\n",
       "      <th>9</th>\n",
       "      <td>1966-10-10 21:00:00</td>\n",
       "      <td>live oak</td>\n",
       "      <td>fl</td>\n",
       "      <td>us</td>\n",
       "      <td>disk</td>\n",
       "      <td>120</td>\n",
       "      <td>several minutes</td>\n",
       "      <td>Saucer zaps energy from powerline as my pregna...</td>\n",
       "      <td>2005-05-11</td>\n",
       "      <td>30.294722</td>\n",
       "      <td>-82.984167</td>\n",
       "    </tr>\n",
       "  </tbody>\n",
       "</table>\n",
       "</div>"
      ],
      "text/plain": [
       "             datetime                  city state country     shape  \\\n",
       "0 1949-10-10 20:30:00            san marcos    tx      us  cylinder   \n",
       "1 1949-10-10 21:00:00          lackland afb    tx     NaN     light   \n",
       "2 1955-10-10 17:00:00  chester (uk/england)   NaN      gb    circle   \n",
       "3 1956-10-10 21:00:00                  edna    tx      us    circle   \n",
       "4 1960-10-10 20:00:00               kaneohe    hi      us     light   \n",
       "5 1961-10-10 19:00:00               bristol    tn      us    sphere   \n",
       "6 1965-10-10 21:00:00    penarth (uk/wales)   NaN      gb    circle   \n",
       "7 1965-10-10 23:45:00               norwalk    ct      us      disk   \n",
       "8 1966-10-10 20:00:00             pell city    al      us      disk   \n",
       "9 1966-10-10 21:00:00              live oak    fl      us      disk   \n",
       "\n",
       "  duration (seconds) duration (hours/min)  \\\n",
       "0               2700           45 minutes   \n",
       "1               7200              1-2 hrs   \n",
       "2                 20           20 seconds   \n",
       "3                 20             1/2 hour   \n",
       "4                900           15 minutes   \n",
       "5                300            5 minutes   \n",
       "6                180         about 3 mins   \n",
       "7               1200           20 minutes   \n",
       "8                180           3  minutes   \n",
       "9                120      several minutes   \n",
       "\n",
       "                                            comments date posted   latitude  \\\n",
       "0  This event took place in early fall around 194...  2004-04-27  29.883056   \n",
       "1  1949 Lackland AFB&#44 TX.  Lights racing acros...  2005-12-16   29.38421   \n",
       "2  Green/Orange circular disc over Chester&#44 En...  2008-01-21       53.2   \n",
       "3  My older brother and twin sister were leaving ...  2004-01-17  28.978333   \n",
       "4  AS a Marine 1st Lt. flying an FJ4B fighter/att...  2004-01-22  21.418056   \n",
       "5  My father is now 89 my brother 52 the girl wit...  2007-04-27     36.595   \n",
       "6  penarth uk  circle  3mins  stayed 30ft above m...  2006-02-14  51.434722   \n",
       "7  A bright orange color changing to reddish colo...  1999-10-02    41.1175   \n",
       "8  Strobe Lighted disk shape object observed clos...  2009-03-19  33.586111   \n",
       "9  Saucer zaps energy from powerline as my pregna...  2005-05-11  30.294722   \n",
       "\n",
       "    longitude  \n",
       "0  -97.941111  \n",
       "1  -98.581082  \n",
       "2   -2.916667  \n",
       "3  -96.645833  \n",
       "4 -157.803611  \n",
       "5  -82.188889  \n",
       "6   -3.180000  \n",
       "7  -73.408333  \n",
       "8  -86.286111  \n",
       "9  -82.984167  "
      ]
     },
     "execution_count": 4,
     "metadata": {},
     "output_type": "execute_result"
    }
   ],
   "source": [
    "df.head(10)"
   ]
  },
  {
   "cell_type": "markdown",
   "id": "27168d23-c6aa-4140-95c4-3f390aa1f7a4",
   "metadata": {},
   "source": [
    "# Data Preparing"
   ]
  },
  {
   "cell_type": "markdown",
   "id": "171acb9e-9bac-4b36-a825-9c159ce34e30",
   "metadata": {
    "jp-MarkdownHeadingCollapsed": true
   },
   "source": [
    "### replacing NaN values with empty values to make unique code in new column"
   ]
  },
  {
   "cell_type": "code",
   "execution_count": 5,
   "id": "43a762ea-46db-4a73-b540-92745b20240c",
   "metadata": {},
   "outputs": [],
   "source": [
    "for i in ['country', 'state']:\n",
    "    df[i] = df[i].replace(np.nan, '')"
   ]
  },
  {
   "cell_type": "markdown",
   "id": "bc8c39bc-efbf-4284-94b6-a9b2043a73cf",
   "metadata": {
    "jp-MarkdownHeadingCollapsed": true
   },
   "source": [
    "### deleting duplicated rows"
   ]
  },
  {
   "cell_type": "code",
   "execution_count": 6,
   "id": "b63eba8d-3014-4fe9-bda1-c92cabfd39fd",
   "metadata": {},
   "outputs": [],
   "source": [
    "df = df.drop_duplicates(subset=['datetime', 'latitude', 'longitude'])"
   ]
  },
  {
   "cell_type": "markdown",
   "id": "9e39b213-7937-4576-a68b-2319de726234",
   "metadata": {
    "jp-MarkdownHeadingCollapsed": true
   },
   "source": [
    "### changing state and country values to uppercases"
   ]
  },
  {
   "cell_type": "code",
   "execution_count": 7,
   "id": "211e6c9b-3c33-460a-9ece-936c026d099b",
   "metadata": {},
   "outputs": [],
   "source": [
    "for i in ['country', 'state']:\n",
    "    df[i] = df[i].str.upper()"
   ]
  },
  {
   "cell_type": "markdown",
   "id": "39fd7496-4e6b-4d9f-bfe4-96ebe86b3190",
   "metadata": {
    "jp-MarkdownHeadingCollapsed": true
   },
   "source": [
    "### adding potentialy missing country codes"
   ]
  },
  {
   "cell_type": "code",
   "execution_count": 8,
   "id": "66186c34-1c3d-4845-9b63-5ed485e94013",
   "metadata": {},
   "outputs": [],
   "source": [
    "countries = {\n",
    "    r'\\(united states\\)': 'US',\n",
    "    r'\\(united kingdom\\)': 'GB',\n",
    "    r'\\(uk/england\\)': 'GB',\n",
    "    r'\\(uk/scotland\\)': 'GB',\n",
    "    r'\\(uk/wales\\)': 'GB',\n",
    "    r'\\(germany\\)': 'DE',\n",
    "    r'\\(france\\)': 'FR',\n",
    "    r'\\(spain\\)': 'ES',\n",
    "    r'\\(italy\\)': 'IT',\n",
    "    r'\\(canada\\)': 'CA',\n",
    "    r'\\(australia\\)': 'AU',\n",
    "    r'\\(mexico\\)': 'MX',\n",
    "    r'\\(brazil\\)': 'BR',\n",
    "    r'\\(poland\\)': 'PL',\n",
    "    r'\\(netherlands\\)': 'NL',\n",
    "    r'\\(belgium\\)': 'BE',\n",
    "    r'\\(sweden\\)': 'SE',\n",
    "    r'\\(norway\\)': 'NO',\n",
    "    r'\\(denmark\\)': 'DK',\n",
    "    r'\\(finland\\)': 'FI',\n",
    "    r'\\(ireland\\)': 'IE',\n",
    "    r'\\(switzerland\\)': 'CH',\n",
    "    r'\\(austria\\)': 'AT',\n",
    "    r'\\(new zealand\\)': 'NZ',\n",
    "    r'\\(russia\\)': 'RU',\n",
    "    r'\\(japan\\)': 'JP',\n",
    "    r'\\(china\\)': 'CN',\n",
    "    r'\\(south korea\\)': 'KR',\n",
    "    r'\\(india\\)': 'IN',\n",
    "    r'\\(south africa\\)': 'ZA',\n",
    "    r'\\(argentina\\)': 'AR',\n",
    "    r'\\(chile\\)': 'CL',\n",
    "    r'\\(colombia\\)': 'CO',\n",
    "    r'\\(portugal\\)': 'PT',\n",
    "    r'\\(czech republic\\)': 'CZ',\n",
    "    r'\\(hungary\\)': 'HU',\n",
    "    r'\\(greece\\)': 'GR',\n",
    "    r'\\(turkey\\)': 'TR',\n",
    "    r'\\(ukraine\\)': 'UA'\n",
    "}\n",
    "\n",
    "for country, code in countries.items():\n",
    "    mask = (df['country'] == '') & df['city'].str.contains(country, case = False)\n",
    "    df.loc[mask, 'country'] = code\n",
    "\n",
    "states = {\n",
    "    'US': ['AK', 'AL', 'AR', 'AZ', 'CA', 'CO', 'CT', 'DC', 'DE', 'FL', 'GA', 'HI', 'IA', 'ID', 'IL', 'IN', 'KS', 'KY', \n",
    "           'LA', 'MA', 'MD', 'ME', 'MI', 'MN', 'MO', 'MS', 'MT', 'NC', 'ND', 'NE', 'NH', 'NJ', 'NM', 'NV', 'NY', 'OH', \n",
    "           'OK', 'OR', 'PA', 'PR', 'RI', 'SC', 'SD', 'TN', 'TX', 'UT', 'VA', 'VT', 'WA', 'WI', 'WV', 'WY'],\n",
    "    'CA': ['AB', 'BC', 'MB', 'NB', 'NL', 'NS', 'NT', 'ON', 'PE', 'QC', 'SK', 'YT', 'YK', 'PQ', 'NF'],\n",
    "    'AU': ['SA']\n",
    "}\n",
    "\n",
    "for country_code, state_codes in states.items():\n",
    "    mask = (df['country'] == '') & df['state'].isin(state_codes)\n",
    "    df.loc[mask, 'country'] = country_code"
   ]
  },
  {
   "cell_type": "markdown",
   "id": "8a8d537d-1784-41e0-986c-4d4851d0ccc6",
   "metadata": {
    "jp-MarkdownHeadingCollapsed": true
   },
   "source": [
    "### adding new column with mixed 'country (state)' code"
   ]
  },
  {
   "cell_type": "code",
   "execution_count": 9,
   "id": "da254d25-165d-4dac-bd89-37e2d59e9e0c",
   "metadata": {},
   "outputs": [],
   "source": [
    "df['country (state)'] = np.where(df['state'] == '', df['country'], df['country'] + \" (\" + df['state'] + \")\")"
   ]
  },
  {
   "cell_type": "markdown",
   "id": "49071f8e-b39c-403e-a4b7-656ab9fa462d",
   "metadata": {
    "jp-MarkdownHeadingCollapsed": true
   },
   "source": [
    "### deleting rows with unknown country"
   ]
  },
  {
   "cell_type": "code",
   "execution_count": 10,
   "id": "cfaeba2a-bcce-45e8-83d0-84246e732db2",
   "metadata": {},
   "outputs": [],
   "source": [
    "df = df[df['country'] != '']"
   ]
  },
  {
   "cell_type": "markdown",
   "id": "56167aaa-18a2-4a70-98bb-9d0721d80987",
   "metadata": {
    "jp-MarkdownHeadingCollapsed": true
   },
   "source": [
    "### replacing NaN values in shape column to 'unknown' value and small fixes"
   ]
  },
  {
   "cell_type": "code",
   "execution_count": 11,
   "id": "8403bf88-bb22-4c5a-8e1f-f2514b018261",
   "metadata": {},
   "outputs": [],
   "source": [
    "df.loc[df['shape'].isna(), 'shape'] ='unknown'\n",
    "df.loc[df['shape'] == 'changed', 'shape'] = 'changing'"
   ]
  },
  {
   "cell_type": "markdown",
   "id": "a058ed9d-80af-4b57-8d38-d994a6a9e943",
   "metadata": {
    "jp-MarkdownHeadingCollapsed": true
   },
   "source": [
    "### deleting cases with duration over 3600 seconds"
   ]
  },
  {
   "cell_type": "code",
   "execution_count": 12,
   "id": "985701db-2415-4261-ab69-7de2b32bfc5f",
   "metadata": {},
   "outputs": [],
   "source": [
    "df['duration (seconds)'] = pd.to_numeric(df['duration (seconds)'], errors = 'coerce') # changing any trash data to nan\n",
    "df = df.dropna(subset = ['duration (seconds)']) # deleting nan data\n",
    "df['duration (seconds)'] = df['duration (seconds)'].astype(int) # changing to int type\n",
    "df = df[df['duration (seconds)'] <= 3600]\n",
    "\n",
    "#small fix in latitude column, changing type to column by deleting trash rows\n",
    "df['latitude'] = pd.to_numeric(df['latitude'], errors = 'coerce')\n",
    "df = df.dropna(subset = ['latitude']) \n",
    "df['latitude'] = df['latitude'].astype(float)"
   ]
  },
  {
   "cell_type": "markdown",
   "id": "1a24f0d7-ec2c-404c-b031-df02412024b9",
   "metadata": {},
   "source": [
    "### adding case_id column and deleting useless columns"
   ]
  },
  {
   "cell_type": "code",
   "execution_count": 13,
   "id": "e73f57e3-82b4-46f3-a973-8baac5205853",
   "metadata": {},
   "outputs": [],
   "source": [
    "df = df.reset_index(drop = True)\n",
    "df['case id'] = df.index + 1"
   ]
  },
  {
   "cell_type": "code",
   "execution_count": 14,
   "id": "ae8bcbda-9146-46ad-9136-d4295b6d3aa5",
   "metadata": {},
   "outputs": [],
   "source": [
    "df = df.drop(columns = ['duration (hours/min)', 'comments', 'date posted'])"
   ]
  },
  {
   "cell_type": "code",
   "execution_count": 15,
   "id": "e6f6e4de-f318-477b-a172-14c6ea444ceb",
   "metadata": {},
   "outputs": [],
   "source": [
    "df = df.rename(columns = {'datetime': 'date reported'})\n",
    "df = df[['case id', 'date reported', 'city', 'state', 'country', 'shape', 'country (state)', 'duration (seconds)', 'latitude', 'longitude']] # rearranging columns"
   ]
  },
  {
   "cell_type": "markdown",
   "id": "39c721a6-681c-41ef-9bad-5a58948d026f",
   "metadata": {},
   "source": [
    "# Data Analysis"
   ]
  },
  {
   "cell_type": "markdown",
   "id": "7d29012a-e9c4-449c-84d6-93a49a08e00a",
   "metadata": {},
   "source": [
    "## 1. What kind of UFO shapes are the most often observed?"
   ]
  },
  {
   "cell_type": "code",
   "execution_count": null,
   "id": "e4d02dd5-e70e-4bdf-b5db-81dbce6254e0",
   "metadata": {},
   "outputs": [],
   "source": [
    "# function for print answer\n",
    "def print_sample(x: str) -> str:\n",
    "    center = x.center(150)\n",
    "    text = print(150*'-', '\\n', center, '\\n', 150*'-')\n",
    "    return text\n",
    "\n",
    "df_question1 = df.groupby('shape').agg(\n",
    "    Total_cases = ('case id', 'count'))\n",
    "df_question1 = df_question1.sort_values('Total_cases', ascending = False).head(10)\n",
    "\n",
    "sns.barplot(data = df_question1, x = 'shape', y = 'Total_cases', hue = 'shape')\n",
    "plt.xticks(rotation = 45)\n",
    "plt.grid(True)\n",
    "plt.xlabel('Shape')\n",
    "plt.ylabel('Total Cases')\n",
    "plt.title('Top 10 UFO shapes observed')\n",
    "print_sample('if we do not count \"light\" as a shape then definitely the most often observed shapes are triangles and circles')\n",
    "plt.show()"
   ]
  },
  {
   "cell_type": "markdown",
   "id": "0ad3a3c6-f535-49c5-b5b9-5f185bda1972",
   "metadata": {
    "jp-MarkdownHeadingCollapsed": true
   },
   "source": [
    "## 2. Which US states report the most UFO sightings?"
   ]
  },
  {
   "cell_type": "code",
   "execution_count": null,
   "id": "b2abe3a3-e5f9-46c4-8cc7-f552d7eefa2a",
   "metadata": {},
   "outputs": [],
   "source": [
    "df_question2 = df[df['country'] == 'US'].groupby('state').agg(\n",
    "    Total_cases = ('case id', 'count'))\n",
    "df_question2 = df_question2.sort_values('Total_cases', ascending = False).head(10)\n",
    "\n",
    "sns.barplot(data = df_question2, x = 'state', y = 'Total_cases', hue = 'state')\n",
    "plt.xticks(rotation = 45)\n",
    "plt.grid(True)\n",
    "plt.xlabel('State')\n",
    "plt.ylabel('Total Cases')\n",
    "plt.title('Top 10 US states where UFO sightings were reported most often')\n",
    "print_sample('California has the highest number of reported UFO sightings — twice as many as the second-highest state. Other states with a significant number of sightings are Florida, Washington, Texas and New York')\n",
    "plt.show()"
   ]
  },
  {
   "cell_type": "markdown",
   "id": "3ac54c18-b661-4796-bc77-9ec2426d6a83",
   "metadata": {
    "jp-MarkdownHeadingCollapsed": true
   },
   "source": [
    "## 3. How have the yearly trends in UFO sightings developed since the year 1990?"
   ]
  },
  {
   "cell_type": "code",
   "execution_count": null,
   "id": "e77a6440-e9f3-44ce-8b4b-130fe0d70ec8",
   "metadata": {},
   "outputs": [],
   "source": [
    "df_question3 = df.groupby(df['date reported'].dt.year).agg(\n",
    "    Total_cases = ('case id', 'count'))\n",
    "df_question3.reset_index(inplace = True)\n",
    "df_question3 = df_question3[df_question3['date reported'] >= 1990].reset_index(drop = True)\n",
    "\n",
    "sns.lineplot(data = df_question3, x = 'date reported', y = 'Total_cases', marker = 'o', color = 'purple')\n",
    "plt.grid(True)\n",
    "plt.xticks(ticks = range(1990,2015,1), rotation = 90)\n",
    "plt.xlabel('Year')\n",
    "plt.ylabel('Total Cases')\n",
    "plt.title('Yearly trends in UFO sightings since 1990')\n",
    "print_sample('we can see that the trend in reported sightings has been consistently increasing since 1990, except 2014 (but data isnt fully completed that year)')\n",
    "plt.show()"
   ]
  },
  {
   "cell_type": "markdown",
   "id": "033211c4-6e1f-4ca6-a8dd-be343bc7c817",
   "metadata": {
    "jp-MarkdownHeadingCollapsed": true
   },
   "source": [
    "## 4. How long was the UFO observed?"
   ]
  },
  {
   "cell_type": "code",
   "execution_count": null,
   "id": "323af5b9-adc7-49b7-8b15-33c473185ade",
   "metadata": {},
   "outputs": [],
   "source": [
    "sns.histplot(df['duration (seconds)'], bins = 60, color = 'blue')\n",
    "plt.xticks(ticks = range(0,1201,60), rotation = 90)\n",
    "plt.xlim(0,1200)\n",
    "plt.ylabel('Total Cases')\n",
    "plt.xlabel('Duration (seconds)')\n",
    "plt.title('Histogram of UFO duration observation')\n",
    "print_sample('Most sightings are very short (under 1 minute), but there are also many cases where the UFO was observed for 5/10/15 minutes')\n",
    "plt.show()\n",
    "\n"
   ]
  },
  {
   "cell_type": "markdown",
   "id": "633033a1-92f7-4941-8855-75c62edf417e",
   "metadata": {},
   "source": [
    "## 5. Are the statistics different in other countries if we exclude the US country from statistics?"
   ]
  },
  {
   "cell_type": "code",
   "execution_count": null,
   "id": "fe50ef4a-23a0-4392-abe8-9f4dc9cb7633",
   "metadata": {},
   "outputs": [],
   "source": [
    "df_question51 = df[df['country'] != 'US'].groupby('shape').agg(\n",
    "    Total_cases = ('case id', 'count'))\n",
    "df_question51 = df_question51.sort_values('Total_cases', ascending = False).head(10)\n",
    "\n",
    "sns.barplot(data = df_question51, x = 'shape', y = 'Total_cases', hue = 'shape')\n",
    "plt.xticks(rotation = 45)\n",
    "plt.grid(True)\n",
    "plt.xlabel('Shape')\n",
    "plt.ylabel('Total Cases')\n",
    "plt.title('Top 10 UFO shapes observed (excluding US)')\n",
    "print_sample('in terms of UFO shape, statistics are very similar')\n",
    "plt.show()"
   ]
  },
  {
   "cell_type": "code",
   "execution_count": null,
   "id": "a32b8dc4-c446-47b6-ac46-cf696223730a",
   "metadata": {},
   "outputs": [],
   "source": [
    "df_question52 = df[df['country'] != 'US'].groupby('country (state)').agg(\n",
    "    Total_cases = ('case id', 'count'))\n",
    "df_question52 = df_question52.sort_values('Total_cases', ascending = False).head(10)\n",
    "\n",
    "sns.barplot(data = df_question52, x = 'country (state)', y = 'Total_cases', hue = 'country (state)')\n",
    "plt.xticks(rotation = 45)\n",
    "plt.grid(True)\n",
    "plt.xlabel('State')\n",
    "plt.ylabel('Total Cases')\n",
    "plt.title('Top 10 countries where UFO sightings were reported most often except US')\n",
    "print_sample('When US is excluded from statistics, then England, Canada and Australia are countries where UFO sightings were most reported')\n",
    "plt.show()"
   ]
  },
  {
   "cell_type": "code",
   "execution_count": null,
   "id": "94c87c79-1de3-4a86-9310-c2ad03ea5906",
   "metadata": {},
   "outputs": [],
   "source": [
    "df_question53 = df[df['country'] != 'US']\n",
    "df_question53 = df_question53.groupby(df_question53['date reported'].dt.year).agg(\n",
    "    Total_cases = ('case id', 'count'))\n",
    "df_question53.reset_index(inplace = True)\n",
    "df_question53 = df_question53[df_question53['date reported'] >= 1990].reset_index(drop = True)\n",
    "\n",
    "sns.lineplot(data = df_question53, x = 'date reported', y = 'Total_cases', marker = 'o', color = 'purple')\n",
    "plt.grid(True)\n",
    "plt.xticks(ticks = range(1990,2015,1), rotation = 90)\n",
    "plt.xlabel('Year')\n",
    "plt.ylabel('Total Cases')\n",
    "plt.title('Yearly trends in UFO sightings since 1990 (US excluded)')\n",
    "print_sample('data is pretty different if we exclude US cases, it reached a peak in 2003 and started dropping')\n",
    "plt.show()"
   ]
  },
  {
   "cell_type": "code",
   "execution_count": null,
   "id": "cd7daf2a-992d-4cd3-ab47-708aa91d86f5",
   "metadata": {},
   "outputs": [],
   "source": [
    "df_question54 = df[df['country'] != 'US']\n",
    "\n",
    "sns.histplot(df_question54['duration (seconds)'], bins = 60, color = 'blue')\n",
    "plt.xticks(ticks = range(0,1201,60), rotation = 90)\n",
    "plt.xlim(0,1200)\n",
    "plt.ylabel('Total Cases')\n",
    "plt.xlabel('Duration (seconds)')\n",
    "plt.title('Histogram of UFO duration observation (US excluded)')\n",
    "print_sample('There is no difference in data in terms of duration of the USO sighting')\n",
    "plt.show()\n"
   ]
  },
  {
   "cell_type": "code",
   "execution_count": null,
   "id": "fd6f43cd-849e-4845-9caf-0aef471779ec",
   "metadata": {},
   "outputs": [],
   "source": []
  }
 ],
 "metadata": {
  "kernelspec": {
   "display_name": "Python 3 (ipykernel)",
   "language": "python",
   "name": "python3"
  },
  "language_info": {
   "codemirror_mode": {
    "name": "ipython",
    "version": 3
   },
   "file_extension": ".py",
   "mimetype": "text/x-python",
   "name": "python",
   "nbconvert_exporter": "python",
   "pygments_lexer": "ipython3",
   "version": "3.12.7"
  }
 },
 "nbformat": 4,
 "nbformat_minor": 5
}
