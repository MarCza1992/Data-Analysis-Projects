{
 "cells": [
  {
   "cell_type": "markdown",
   "id": "3b0833de-7bae-4ee7-b137-882e5bfb02b9",
   "metadata": {
    "jp-MarkdownHeadingCollapsed": true
   },
   "source": [
    "# Libraries"
   ]
  },
  {
   "cell_type": "code",
   "execution_count": 275,
   "id": "bc4fdc02-0949-4813-bc8c-887b25bdba64",
   "metadata": {},
   "outputs": [],
   "source": [
    "import pandas as pd\n",
    "import numpy as np\n",
    "import matplotlib.pyplot as plt\n",
    "import seaborn as sns"
   ]
  },
  {
   "cell_type": "markdown",
   "id": "c2b34974-f22f-4876-a0a4-ca695838b444",
   "metadata": {
    "jp-MarkdownHeadingCollapsed": true
   },
   "source": [
    "# Importing Data"
   ]
  },
  {
   "cell_type": "code",
   "execution_count": 276,
   "id": "ec9b3ddc-208d-43fb-9938-6d971093dd9e",
   "metadata": {},
   "outputs": [],
   "source": [
    "df = pd.read_csv('Chess games.csv', sep = ';')"
   ]
  },
  {
   "cell_type": "code",
   "execution_count": 277,
   "id": "ed4e1828-17bc-417f-aa95-c9f3331feb51",
   "metadata": {},
   "outputs": [
    {
     "name": "stdout",
     "output_type": "stream",
     "text": [
      "<class 'pandas.core.frame.DataFrame'>\n",
      "RangeIndex: 20058 entries, 0 to 20057\n",
      "Data columns (total 17 columns):\n",
      " #   Column             Non-Null Count  Dtype \n",
      "---  ------             --------------  ----- \n",
      " 0   game_id            20058 non-null  int64 \n",
      " 1   rated              20058 non-null  bool  \n",
      " 2   turns              20058 non-null  int64 \n",
      " 3   victory_status     20058 non-null  object\n",
      " 4   winner             20058 non-null  object\n",
      " 5   time_increment     20058 non-null  object\n",
      " 6   white_id           20058 non-null  object\n",
      " 7   white_rating       20058 non-null  int64 \n",
      " 8   black_id           20058 non-null  object\n",
      " 9   black_rating       20058 non-null  int64 \n",
      " 10  moves              20058 non-null  object\n",
      " 11  opening_code       20058 non-null  object\n",
      " 12  opening_moves      20058 non-null  int64 \n",
      " 13  opening_fullname   20058 non-null  object\n",
      " 14  opening_shortname  20058 non-null  object\n",
      " 15  opening_response   1207 non-null   object\n",
      " 16  opening_variation  14398 non-null  object\n",
      "dtypes: bool(1), int64(5), object(11)\n",
      "memory usage: 2.5+ MB\n"
     ]
    }
   ],
   "source": [
    "df.info()"
   ]
  },
  {
   "cell_type": "code",
   "execution_count": 278,
   "id": "de83fd8a-1f25-4c75-8b0d-cecfdbc2603b",
   "metadata": {
    "scrolled": true
   },
   "outputs": [
    {
     "data": {
      "text/html": [
       "<div>\n",
       "<style scoped>\n",
       "    .dataframe tbody tr th:only-of-type {\n",
       "        vertical-align: middle;\n",
       "    }\n",
       "\n",
       "    .dataframe tbody tr th {\n",
       "        vertical-align: top;\n",
       "    }\n",
       "\n",
       "    .dataframe thead th {\n",
       "        text-align: right;\n",
       "    }\n",
       "</style>\n",
       "<table border=\"1\" class=\"dataframe\">\n",
       "  <thead>\n",
       "    <tr style=\"text-align: right;\">\n",
       "      <th></th>\n",
       "      <th>game_id</th>\n",
       "      <th>rated</th>\n",
       "      <th>turns</th>\n",
       "      <th>victory_status</th>\n",
       "      <th>winner</th>\n",
       "      <th>time_increment</th>\n",
       "      <th>white_id</th>\n",
       "      <th>white_rating</th>\n",
       "      <th>black_id</th>\n",
       "      <th>black_rating</th>\n",
       "      <th>moves</th>\n",
       "      <th>opening_code</th>\n",
       "      <th>opening_moves</th>\n",
       "      <th>opening_fullname</th>\n",
       "      <th>opening_shortname</th>\n",
       "      <th>opening_response</th>\n",
       "      <th>opening_variation</th>\n",
       "    </tr>\n",
       "  </thead>\n",
       "  <tbody>\n",
       "    <tr>\n",
       "      <th>11497</th>\n",
       "      <td>11498</td>\n",
       "      <td>True</td>\n",
       "      <td>26</td>\n",
       "      <td>Resign</td>\n",
       "      <td>Black</td>\n",
       "      <td>10+0</td>\n",
       "      <td>filmokholik</td>\n",
       "      <td>1101</td>\n",
       "      <td>iamaliveandbored</td>\n",
       "      <td>1148</td>\n",
       "      <td>e4 e5 d4 exd4 Qxd4 Nc6 Qe3 b6 e5 Bc5 Qe4 d5 Qf...</td>\n",
       "      <td>C22</td>\n",
       "      <td>7</td>\n",
       "      <td>Center Game: Paulsen Attack Variation</td>\n",
       "      <td>Center Game</td>\n",
       "      <td>NaN</td>\n",
       "      <td>Paulsen Attack Variation</td>\n",
       "    </tr>\n",
       "    <tr>\n",
       "      <th>15195</th>\n",
       "      <td>15196</td>\n",
       "      <td>False</td>\n",
       "      <td>61</td>\n",
       "      <td>Mate</td>\n",
       "      <td>White</td>\n",
       "      <td>15+6</td>\n",
       "      <td>flafel26</td>\n",
       "      <td>1589</td>\n",
       "      <td>francislartey36</td>\n",
       "      <td>1500</td>\n",
       "      <td>d4 e6 e4 d5 e5 Nc6 Nf3 Bb4+ c3 Be7 Bb5 Bd7 O-O...</td>\n",
       "      <td>C02</td>\n",
       "      <td>5</td>\n",
       "      <td>French Defense: Advance Variation #3</td>\n",
       "      <td>French Defense</td>\n",
       "      <td>NaN</td>\n",
       "      <td>Advance Variation #3</td>\n",
       "    </tr>\n",
       "    <tr>\n",
       "      <th>8016</th>\n",
       "      <td>8017</td>\n",
       "      <td>False</td>\n",
       "      <td>45</td>\n",
       "      <td>Mate</td>\n",
       "      <td>White</td>\n",
       "      <td>5+5</td>\n",
       "      <td>kinatos</td>\n",
       "      <td>1771</td>\n",
       "      <td>bowwow</td>\n",
       "      <td>1671</td>\n",
       "      <td>d4 Nf6 c4 g6 Nc3 d5 c5 Ne4 Nxe4 dxe4 f3 exf3 N...</td>\n",
       "      <td>D80</td>\n",
       "      <td>6</td>\n",
       "      <td>Gruenfeld Defense</td>\n",
       "      <td>Gruenfeld Defense</td>\n",
       "      <td>NaN</td>\n",
       "      <td>NaN</td>\n",
       "    </tr>\n",
       "    <tr>\n",
       "      <th>10846</th>\n",
       "      <td>10847</td>\n",
       "      <td>False</td>\n",
       "      <td>30</td>\n",
       "      <td>Out of Time</td>\n",
       "      <td>Black</td>\n",
       "      <td>3+8</td>\n",
       "      <td>hamham</td>\n",
       "      <td>1303</td>\n",
       "      <td>otari</td>\n",
       "      <td>1500</td>\n",
       "      <td>e4 d6 d3 b6 Nf3 Bg4 Nc3 Na6 Be2 Nc5 h3 Bh5 Ng5...</td>\n",
       "      <td>B07</td>\n",
       "      <td>2</td>\n",
       "      <td>Pirc Defense #4</td>\n",
       "      <td>Pirc Defense</td>\n",
       "      <td>NaN</td>\n",
       "      <td>#4</td>\n",
       "    </tr>\n",
       "    <tr>\n",
       "      <th>16169</th>\n",
       "      <td>16170</td>\n",
       "      <td>True</td>\n",
       "      <td>108</td>\n",
       "      <td>Draw</td>\n",
       "      <td>Draw</td>\n",
       "      <td>5+5</td>\n",
       "      <td>elmelito</td>\n",
       "      <td>1689</td>\n",
       "      <td>yazeed_bani_saleem</td>\n",
       "      <td>1746</td>\n",
       "      <td>e4 e5 Nf3 Nf6 Nxe5 Qe7 d4 d6 Nf3 Nxe4 Be3 Bg4 ...</td>\n",
       "      <td>C42</td>\n",
       "      <td>5</td>\n",
       "      <td>Petrov's Defense #2</td>\n",
       "      <td>Petrov's Defense</td>\n",
       "      <td>NaN</td>\n",
       "      <td>#2</td>\n",
       "    </tr>\n",
       "    <tr>\n",
       "      <th>7067</th>\n",
       "      <td>7068</td>\n",
       "      <td>True</td>\n",
       "      <td>61</td>\n",
       "      <td>Resign</td>\n",
       "      <td>White</td>\n",
       "      <td>10+0</td>\n",
       "      <td>pmw97</td>\n",
       "      <td>1729</td>\n",
       "      <td>bouzav</td>\n",
       "      <td>1726</td>\n",
       "      <td>d4 Nf6 c4 b6 Nc3 Bb7 e3 g6 Nf3 d6 b3 Bg7 Bb2 O...</td>\n",
       "      <td>A50</td>\n",
       "      <td>4</td>\n",
       "      <td>Queen's Indian Accelerated</td>\n",
       "      <td>Queen's Indian Accelerated</td>\n",
       "      <td>NaN</td>\n",
       "      <td>NaN</td>\n",
       "    </tr>\n",
       "    <tr>\n",
       "      <th>10255</th>\n",
       "      <td>10256</td>\n",
       "      <td>True</td>\n",
       "      <td>41</td>\n",
       "      <td>Mate</td>\n",
       "      <td>White</td>\n",
       "      <td>10+5</td>\n",
       "      <td>terrytee1984</td>\n",
       "      <td>1412</td>\n",
       "      <td>agazamiseh</td>\n",
       "      <td>1417</td>\n",
       "      <td>d4 d5 Nc3 e6 Bf4 Nf6 Nf3 Bb4 a3 Ba5 b4 Bb6 a4 ...</td>\n",
       "      <td>D00</td>\n",
       "      <td>3</td>\n",
       "      <td>Queen's Pawn Game: Chigorin Variation</td>\n",
       "      <td>Queen's Pawn Game</td>\n",
       "      <td>NaN</td>\n",
       "      <td>Chigorin Variation</td>\n",
       "    </tr>\n",
       "    <tr>\n",
       "      <th>18143</th>\n",
       "      <td>18144</td>\n",
       "      <td>True</td>\n",
       "      <td>68</td>\n",
       "      <td>Mate</td>\n",
       "      <td>Black</td>\n",
       "      <td>35+35</td>\n",
       "      <td>tanzim1</td>\n",
       "      <td>1450</td>\n",
       "      <td>lukuna</td>\n",
       "      <td>1637</td>\n",
       "      <td>e4 e6 d4 d5 Nc3 Bb4 Nf3 Bxc3+ bxc3 Ne7 e5 O-O ...</td>\n",
       "      <td>C15</td>\n",
       "      <td>6</td>\n",
       "      <td>French Defense: Winawer Variation</td>\n",
       "      <td>French Defense</td>\n",
       "      <td>NaN</td>\n",
       "      <td>Winawer Variation</td>\n",
       "    </tr>\n",
       "    <tr>\n",
       "      <th>13643</th>\n",
       "      <td>13644</td>\n",
       "      <td>True</td>\n",
       "      <td>9</td>\n",
       "      <td>Resign</td>\n",
       "      <td>Black</td>\n",
       "      <td>10+0</td>\n",
       "      <td>kuppel</td>\n",
       "      <td>1080</td>\n",
       "      <td>chesswith666</td>\n",
       "      <td>1003</td>\n",
       "      <td>Nf3 Nf6 d4 g6 c3 Bg7 e4 Nxe4 g4</td>\n",
       "      <td>A49</td>\n",
       "      <td>4</td>\n",
       "      <td>East Indian Defense</td>\n",
       "      <td>East Indian Defense</td>\n",
       "      <td>NaN</td>\n",
       "      <td>NaN</td>\n",
       "    </tr>\n",
       "    <tr>\n",
       "      <th>7590</th>\n",
       "      <td>7591</td>\n",
       "      <td>True</td>\n",
       "      <td>109</td>\n",
       "      <td>Draw</td>\n",
       "      <td>Draw</td>\n",
       "      <td>15+0</td>\n",
       "      <td>shadow1031</td>\n",
       "      <td>1417</td>\n",
       "      <td>davidul</td>\n",
       "      <td>1463</td>\n",
       "      <td>e4 e5 Nf3 Nc6 Bb5 Bc5 O-O Nf6 Nc3 O-O d3 Ne8 R...</td>\n",
       "      <td>C65</td>\n",
       "      <td>8</td>\n",
       "      <td>Ruy Lopez: Berlin Defense |  Beverwijk Variation</td>\n",
       "      <td>Ruy Lopez</td>\n",
       "      <td>NaN</td>\n",
       "      <td>Berlin Defense</td>\n",
       "    </tr>\n",
       "  </tbody>\n",
       "</table>\n",
       "</div>"
      ],
      "text/plain": [
       "       game_id  rated  turns victory_status winner time_increment  \\\n",
       "11497    11498   True     26         Resign  Black           10+0   \n",
       "15195    15196  False     61           Mate  White           15+6   \n",
       "8016      8017  False     45           Mate  White            5+5   \n",
       "10846    10847  False     30    Out of Time  Black            3+8   \n",
       "16169    16170   True    108           Draw   Draw            5+5   \n",
       "7067      7068   True     61         Resign  White           10+0   \n",
       "10255    10256   True     41           Mate  White           10+5   \n",
       "18143    18144   True     68           Mate  Black          35+35   \n",
       "13643    13644   True      9         Resign  Black           10+0   \n",
       "7590      7591   True    109           Draw   Draw           15+0   \n",
       "\n",
       "           white_id  white_rating            black_id  black_rating  \\\n",
       "11497   filmokholik          1101    iamaliveandbored          1148   \n",
       "15195      flafel26          1589     francislartey36          1500   \n",
       "8016        kinatos          1771              bowwow          1671   \n",
       "10846        hamham          1303               otari          1500   \n",
       "16169      elmelito          1689  yazeed_bani_saleem          1746   \n",
       "7067          pmw97          1729              bouzav          1726   \n",
       "10255  terrytee1984          1412          agazamiseh          1417   \n",
       "18143       tanzim1          1450              lukuna          1637   \n",
       "13643        kuppel          1080        chesswith666          1003   \n",
       "7590     shadow1031          1417             davidul          1463   \n",
       "\n",
       "                                                   moves opening_code  \\\n",
       "11497  e4 e5 d4 exd4 Qxd4 Nc6 Qe3 b6 e5 Bc5 Qe4 d5 Qf...          C22   \n",
       "15195  d4 e6 e4 d5 e5 Nc6 Nf3 Bb4+ c3 Be7 Bb5 Bd7 O-O...          C02   \n",
       "8016   d4 Nf6 c4 g6 Nc3 d5 c5 Ne4 Nxe4 dxe4 f3 exf3 N...          D80   \n",
       "10846  e4 d6 d3 b6 Nf3 Bg4 Nc3 Na6 Be2 Nc5 h3 Bh5 Ng5...          B07   \n",
       "16169  e4 e5 Nf3 Nf6 Nxe5 Qe7 d4 d6 Nf3 Nxe4 Be3 Bg4 ...          C42   \n",
       "7067   d4 Nf6 c4 b6 Nc3 Bb7 e3 g6 Nf3 d6 b3 Bg7 Bb2 O...          A50   \n",
       "10255  d4 d5 Nc3 e6 Bf4 Nf6 Nf3 Bb4 a3 Ba5 b4 Bb6 a4 ...          D00   \n",
       "18143  e4 e6 d4 d5 Nc3 Bb4 Nf3 Bxc3+ bxc3 Ne7 e5 O-O ...          C15   \n",
       "13643                    Nf3 Nf6 d4 g6 c3 Bg7 e4 Nxe4 g4          A49   \n",
       "7590   e4 e5 Nf3 Nc6 Bb5 Bc5 O-O Nf6 Nc3 O-O d3 Ne8 R...          C65   \n",
       "\n",
       "       opening_moves                                  opening_fullname  \\\n",
       "11497              7             Center Game: Paulsen Attack Variation   \n",
       "15195              5              French Defense: Advance Variation #3   \n",
       "8016               6                                 Gruenfeld Defense   \n",
       "10846              2                                   Pirc Defense #4   \n",
       "16169              5                               Petrov's Defense #2   \n",
       "7067               4                        Queen's Indian Accelerated   \n",
       "10255              3             Queen's Pawn Game: Chigorin Variation   \n",
       "18143              6                 French Defense: Winawer Variation   \n",
       "13643              4                               East Indian Defense   \n",
       "7590               8  Ruy Lopez: Berlin Defense |  Beverwijk Variation   \n",
       "\n",
       "                opening_shortname opening_response         opening_variation  \n",
       "11497                 Center Game              NaN  Paulsen Attack Variation  \n",
       "15195              French Defense              NaN      Advance Variation #3  \n",
       "8016            Gruenfeld Defense              NaN                       NaN  \n",
       "10846                Pirc Defense              NaN                        #4  \n",
       "16169            Petrov's Defense              NaN                        #2  \n",
       "7067   Queen's Indian Accelerated              NaN                       NaN  \n",
       "10255           Queen's Pawn Game              NaN        Chigorin Variation  \n",
       "18143              French Defense              NaN         Winawer Variation  \n",
       "13643         East Indian Defense              NaN                       NaN  \n",
       "7590                    Ruy Lopez              NaN            Berlin Defense  "
      ]
     },
     "execution_count": 278,
     "metadata": {},
     "output_type": "execute_result"
    }
   ],
   "source": [
    "df.sample(10)"
   ]
  },
  {
   "cell_type": "markdown",
   "id": "27168d23-c6aa-4140-95c4-3f390aa1f7a4",
   "metadata": {},
   "source": [
    "# Data Preparing"
   ]
  },
  {
   "cell_type": "markdown",
   "id": "bc8c39bc-efbf-4284-94b6-a9b2043a73cf",
   "metadata": {
    "jp-MarkdownHeadingCollapsed": true
   },
   "source": [
    "### deleting duplicated rows"
   ]
  },
  {
   "cell_type": "code",
   "execution_count": 279,
   "id": "b63eba8d-3014-4fe9-bda1-c92cabfd39fd",
   "metadata": {},
   "outputs": [],
   "source": [
    "df = df.drop_duplicates(subset=['rated', 'victory_status', 'winner', 'time_increment', 'white_id', 'white_rating', 'black_id', 'black_rating', 'moves', 'opening_moves', 'opening_shortname'])"
   ]
  },
  {
   "cell_type": "markdown",
   "id": "9e39b213-7937-4576-a68b-2319de726234",
   "metadata": {
    "jp-MarkdownHeadingCollapsed": true
   },
   "source": [
    "### transforming 'moves' column into a 'first_move' column"
   ]
  },
  {
   "cell_type": "code",
   "execution_count": 280,
   "id": "211e6c9b-3c33-460a-9ece-936c026d099b",
   "metadata": {},
   "outputs": [],
   "source": [
    "df['first_move'] = df['moves'].str[0:2].str.strip()"
   ]
  },
  {
   "cell_type": "markdown",
   "id": "39fd7496-4e6b-4d9f-bfe4-96ebe86b3190",
   "metadata": {
    "jp-MarkdownHeadingCollapsed": true
   },
   "source": [
    "### deleting useless columns"
   ]
  },
  {
   "cell_type": "code",
   "execution_count": 281,
   "id": "66186c34-1c3d-4845-9b63-5ed485e94013",
   "metadata": {},
   "outputs": [],
   "source": [
    "df = df.drop(columns = ['opening_fullname', 'opening_code', 'moves', 'opening_response', 'opening_variation'])"
   ]
  },
  {
   "cell_type": "markdown",
   "id": "8a8d537d-1784-41e0-986c-4d4851d0ccc6",
   "metadata": {
    "jp-MarkdownHeadingCollapsed": true
   },
   "source": [
    "### seperating time_increment column into game time and increment time column"
   ]
  },
  {
   "cell_type": "code",
   "execution_count": 282,
   "id": "da254d25-165d-4dac-bd89-37e2d59e9e0c",
   "metadata": {},
   "outputs": [],
   "source": [
    "df[['game_time', 'increment_time']] = df['time_increment'].str.split('+', expand = True)\n",
    "df = df.drop(columns = 'time_increment')"
   ]
  },
  {
   "cell_type": "code",
   "execution_count": 283,
   "id": "8c03a2f8-662e-449a-a8b5-da3e3d017651",
   "metadata": {},
   "outputs": [],
   "source": [
    "df[['game_time', 'increment_time']] = df[['game_time', 'increment_time']].astype(int)"
   ]
  },
  {
   "cell_type": "markdown",
   "id": "49071f8e-b39c-403e-a4b7-656ab9fa462d",
   "metadata": {
    "jp-MarkdownHeadingCollapsed": true
   },
   "source": [
    "### adding new 'game_type', 'winner by rating' and 'turns(bins)' columns"
   ]
  },
  {
   "cell_type": "code",
   "execution_count": 284,
   "id": "cfaeba2a-bcce-45e8-83d0-84246e732db2",
   "metadata": {},
   "outputs": [],
   "source": [
    "conditions1 = [\n",
    "    (df['game_time'] >= 30) & (df['game_time'] <= 120) & (df['increment_time'] >= 11) & (df['increment_time'] <= 60),\n",
    "    (df['game_time'] >= 10) & (df['game_time'] <= 60) & (df['increment_time'] <= 10),\n",
    "    (df['game_time'] >= 3) & (df['game_time'] <= 9) & (df['increment_time'] <= 3)]\n",
    "\n",
    "choices1 = ['Classic Chess', 'Rapid Chess', 'Blitz Chess']\n",
    "\n",
    "df['game_type'] = np.select(conditions1, choices1, default = 'Custom')"
   ]
  },
  {
   "cell_type": "code",
   "execution_count": 285,
   "id": "06f914a6-7f02-4ef5-91af-34ae4fbf0f81",
   "metadata": {},
   "outputs": [],
   "source": [
    "conditions2 = [\n",
    "    (df['white_rating'] > df['black_rating']) & (df['winner'] == \"White\"),\n",
    "    (df['white_rating'] < df['black_rating']) & (df['winner'] == \"White\"),\n",
    "    (df['white_rating'] > df['black_rating']) & (df['winner'] == \"Black\"),\n",
    "    (df['white_rating'] < df['black_rating']) & (df['winner'] == \"Black\"),\n",
    "    (df['white_rating'] == df['black_rating']),\n",
    "    (df['winner'] == \"Draw\")]\n",
    "\n",
    "choices2 = ['Stronger player won', 'Weaker player won', 'Weaker player won', 'Stronger player won', 'Equal rating', 'Draw']\n",
    "\n",
    "df['winner_by_player_rating'] = np.select(conditions2, choices2, default = '')\n",
    "    \n",
    "    "
   ]
  },
  {
   "cell_type": "code",
   "execution_count": 286,
   "id": "d7a40044-0c9b-4a61-aecc-f14987da5e3b",
   "metadata": {},
   "outputs": [],
   "source": [
    "conditions3 = [\n",
    "    (df['turns'] <= 10),\n",
    "    (df['turns'] >= 11) & (df['turns'] <= 30),\n",
    "    (df['turns'] >= 31) & (df['turns'] <= 60),\n",
    "    (df['turns'] >= 61) & (df['turns'] <= 100),\n",
    "    (df['turns'] >= 101)]\n",
    "\n",
    "choices3 = ['1-10 turns', '11-30 turns', '31-60 turns', '61-100 turns', '101+ turns']\n",
    "\n",
    "df['turns(bins)'] = np.select(conditions3, choices3, default = '')"
   ]
  },
  {
   "cell_type": "markdown",
   "id": "56167aaa-18a2-4a70-98bb-9d0721d80987",
   "metadata": {},
   "source": [
    "### adding new 'players' table, using union_all and win/lose/draw column in it"
   ]
  },
  {
   "cell_type": "code",
   "execution_count": 287,
   "id": "8403bf88-bb22-4c5a-8e1f-f2514b018261",
   "metadata": {},
   "outputs": [],
   "source": [
    "conditions_white = [\n",
    "    (df['winner'] == 'White'),\n",
    "    (df['winner'] == 'Draw')]\n",
    "conditions_black = [\n",
    "    (df['winner'] == 'Black'),\n",
    "    (df['winner'] == 'Draw')]\n",
    "\n",
    "choices4 = ['Win', 'Draw']"
   ]
  },
  {
   "cell_type": "code",
   "execution_count": 288,
   "id": "2d042bcf-cfbd-4739-89f0-49556c6baab9",
   "metadata": {},
   "outputs": [],
   "source": [
    "df_white = df[['game_id', 'winner', 'white_id', 'white_rating']].copy()\n",
    "df_black = df[['game_id', 'winner', 'black_id', 'black_rating']].copy()\n",
    "\n",
    "df_white['Win/Lose/Draw'] = np.select(conditions_white, choices4, default = 'Lose')\n",
    "df_black['Win/Lose/Draw'] = np.select(conditions_black, choices4, default = 'Lose')"
   ]
  },
  {
   "cell_type": "code",
   "execution_count": 289,
   "id": "df67eea1-569b-4665-a205-85478debc72b",
   "metadata": {},
   "outputs": [],
   "source": [
    "df_white.columns = ['game_id', 'winner', 'player_id', 'rating', 'Win/Lose/Draw']\n",
    "df_black.columns = ['game_id', 'winner', 'player_id', 'rating', 'Win/Lose/Draw']\n",
    "\n",
    "df_players = pd.concat([df_white, df_black], ignore_index = True)"
   ]
  },
  {
   "cell_type": "markdown",
   "id": "02430c78-d648-42f8-b50c-04a4d937937c",
   "metadata": {
    "jp-MarkdownHeadingCollapsed": true
   },
   "source": [
    "### final rearranges and small fixing"
   ]
  },
  {
   "cell_type": "code",
   "execution_count": 290,
   "id": "d5c218ff-39d3-48ef-b7ce-3bac4d7548d8",
   "metadata": {},
   "outputs": [],
   "source": [
    "df = df[['game_id', 'rated', 'turns', 'turns(bins)', 'game_type', 'victory_status', 'winner', 'white_id', 'white_rating', 'black_id', 'black_rating', 'winner_by_player_rating', 'first_move', 'opening_moves', 'opening_shortname']]\n",
    "df = df.reset_index(drop = True)"
   ]
  },
  {
   "cell_type": "markdown",
   "id": "f42ef379-387d-42cb-995d-e47431d99f15",
   "metadata": {},
   "source": [
    "### tables"
   ]
  },
  {
   "cell_type": "code",
   "execution_count": 291,
   "id": "fd6c4306-a8c2-427e-b9d7-15519d2d4908",
   "metadata": {},
   "outputs": [
    {
     "name": "stdout",
     "output_type": "stream",
     "text": [
      "<class 'pandas.core.frame.DataFrame'>\n",
      "RangeIndex: 19112 entries, 0 to 19111\n",
      "Data columns (total 15 columns):\n",
      " #   Column                   Non-Null Count  Dtype \n",
      "---  ------                   --------------  ----- \n",
      " 0   game_id                  19112 non-null  int64 \n",
      " 1   rated                    19112 non-null  bool  \n",
      " 2   turns                    19112 non-null  int64 \n",
      " 3   turns(bins)              19112 non-null  object\n",
      " 4   game_type                19112 non-null  object\n",
      " 5   victory_status           19112 non-null  object\n",
      " 6   winner                   19112 non-null  object\n",
      " 7   white_id                 19112 non-null  object\n",
      " 8   white_rating             19112 non-null  int64 \n",
      " 9   black_id                 19112 non-null  object\n",
      " 10  black_rating             19112 non-null  int64 \n",
      " 11  winner_by_player_rating  19112 non-null  object\n",
      " 12  first_move               19112 non-null  object\n",
      " 13  opening_moves            19112 non-null  int64 \n",
      " 14  opening_shortname        19112 non-null  object\n",
      "dtypes: bool(1), int64(5), object(9)\n",
      "memory usage: 2.1+ MB\n"
     ]
    },
    {
     "data": {
      "text/html": [
       "<div>\n",
       "<style scoped>\n",
       "    .dataframe tbody tr th:only-of-type {\n",
       "        vertical-align: middle;\n",
       "    }\n",
       "\n",
       "    .dataframe tbody tr th {\n",
       "        vertical-align: top;\n",
       "    }\n",
       "\n",
       "    .dataframe thead th {\n",
       "        text-align: right;\n",
       "    }\n",
       "</style>\n",
       "<table border=\"1\" class=\"dataframe\">\n",
       "  <thead>\n",
       "    <tr style=\"text-align: right;\">\n",
       "      <th></th>\n",
       "      <th>game_id</th>\n",
       "      <th>rated</th>\n",
       "      <th>turns</th>\n",
       "      <th>turns(bins)</th>\n",
       "      <th>game_type</th>\n",
       "      <th>victory_status</th>\n",
       "      <th>winner</th>\n",
       "      <th>white_id</th>\n",
       "      <th>white_rating</th>\n",
       "      <th>black_id</th>\n",
       "      <th>black_rating</th>\n",
       "      <th>winner_by_player_rating</th>\n",
       "      <th>first_move</th>\n",
       "      <th>opening_moves</th>\n",
       "      <th>opening_shortname</th>\n",
       "    </tr>\n",
       "  </thead>\n",
       "  <tbody>\n",
       "    <tr>\n",
       "      <th>7272</th>\n",
       "      <td>7290</td>\n",
       "      <td>True</td>\n",
       "      <td>94</td>\n",
       "      <td>61-100 turns</td>\n",
       "      <td>Custom</td>\n",
       "      <td>Mate</td>\n",
       "      <td>Black</td>\n",
       "      <td>dipset</td>\n",
       "      <td>1477</td>\n",
       "      <td>cm0911</td>\n",
       "      <td>1484</td>\n",
       "      <td>Stronger player won</td>\n",
       "      <td>f3</td>\n",
       "      <td>1</td>\n",
       "      <td>Gedult's Opening</td>\n",
       "    </tr>\n",
       "    <tr>\n",
       "      <th>2054</th>\n",
       "      <td>2058</td>\n",
       "      <td>True</td>\n",
       "      <td>45</td>\n",
       "      <td>31-60 turns</td>\n",
       "      <td>Rapid Chess</td>\n",
       "      <td>Resign</td>\n",
       "      <td>Black</td>\n",
       "      <td>chicago_chess</td>\n",
       "      <td>1555</td>\n",
       "      <td>avaysberg</td>\n",
       "      <td>1607</td>\n",
       "      <td>Stronger player won</td>\n",
       "      <td>e4</td>\n",
       "      <td>3</td>\n",
       "      <td>Nimzowitsch Defense</td>\n",
       "    </tr>\n",
       "    <tr>\n",
       "      <th>12272</th>\n",
       "      <td>12536</td>\n",
       "      <td>True</td>\n",
       "      <td>28</td>\n",
       "      <td>11-30 turns</td>\n",
       "      <td>Custom</td>\n",
       "      <td>Resign</td>\n",
       "      <td>Black</td>\n",
       "      <td>tbunji</td>\n",
       "      <td>2255</td>\n",
       "      <td>bignoob1409</td>\n",
       "      <td>2100</td>\n",
       "      <td>Weaker player won</td>\n",
       "      <td>d4</td>\n",
       "      <td>8</td>\n",
       "      <td>Nimzo-Indian Defense</td>\n",
       "    </tr>\n",
       "    <tr>\n",
       "      <th>17811</th>\n",
       "      <td>18571</td>\n",
       "      <td>True</td>\n",
       "      <td>94</td>\n",
       "      <td>61-100 turns</td>\n",
       "      <td>Rapid Chess</td>\n",
       "      <td>Mate</td>\n",
       "      <td>Black</td>\n",
       "      <td>mitkonikov</td>\n",
       "      <td>1505</td>\n",
       "      <td>birgul</td>\n",
       "      <td>1832</td>\n",
       "      <td>Stronger player won</td>\n",
       "      <td>e4</td>\n",
       "      <td>5</td>\n",
       "      <td>Vienna Game</td>\n",
       "    </tr>\n",
       "    <tr>\n",
       "      <th>4734</th>\n",
       "      <td>4751</td>\n",
       "      <td>True</td>\n",
       "      <td>43</td>\n",
       "      <td>31-60 turns</td>\n",
       "      <td>Rapid Chess</td>\n",
       "      <td>Resign</td>\n",
       "      <td>White</td>\n",
       "      <td>jayblackington</td>\n",
       "      <td>1194</td>\n",
       "      <td>jurandirjunior</td>\n",
       "      <td>1356</td>\n",
       "      <td>Weaker player won</td>\n",
       "      <td>Nf</td>\n",
       "      <td>4</td>\n",
       "      <td>Queen's Pawn Game</td>\n",
       "    </tr>\n",
       "  </tbody>\n",
       "</table>\n",
       "</div>"
      ],
      "text/plain": [
       "       game_id  rated  turns   turns(bins)    game_type victory_status winner  \\\n",
       "7272      7290   True     94  61-100 turns       Custom           Mate  Black   \n",
       "2054      2058   True     45   31-60 turns  Rapid Chess         Resign  Black   \n",
       "12272    12536   True     28   11-30 turns       Custom         Resign  Black   \n",
       "17811    18571   True     94  61-100 turns  Rapid Chess           Mate  Black   \n",
       "4734      4751   True     43   31-60 turns  Rapid Chess         Resign  White   \n",
       "\n",
       "             white_id  white_rating        black_id  black_rating  \\\n",
       "7272           dipset          1477          cm0911          1484   \n",
       "2054    chicago_chess          1555       avaysberg          1607   \n",
       "12272          tbunji          2255     bignoob1409          2100   \n",
       "17811      mitkonikov          1505          birgul          1832   \n",
       "4734   jayblackington          1194  jurandirjunior          1356   \n",
       "\n",
       "      winner_by_player_rating first_move  opening_moves     opening_shortname  \n",
       "7272      Stronger player won         f3              1      Gedult's Opening  \n",
       "2054      Stronger player won         e4              3   Nimzowitsch Defense  \n",
       "12272       Weaker player won         d4              8  Nimzo-Indian Defense  \n",
       "17811     Stronger player won         e4              5           Vienna Game  \n",
       "4734        Weaker player won         Nf              4     Queen's Pawn Game  "
      ]
     },
     "execution_count": 291,
     "metadata": {},
     "output_type": "execute_result"
    }
   ],
   "source": [
    "df.info()\n",
    "df.sample(5)"
   ]
  },
  {
   "cell_type": "code",
   "execution_count": 292,
   "id": "e3a7050d-2ac6-419e-973e-3a4424f603f0",
   "metadata": {},
   "outputs": [
    {
     "name": "stdout",
     "output_type": "stream",
     "text": [
      "<class 'pandas.core.frame.DataFrame'>\n",
      "RangeIndex: 38224 entries, 0 to 38223\n",
      "Data columns (total 5 columns):\n",
      " #   Column         Non-Null Count  Dtype \n",
      "---  ------         --------------  ----- \n",
      " 0   game_id        38224 non-null  int64 \n",
      " 1   winner         38224 non-null  object\n",
      " 2   player_id      38224 non-null  object\n",
      " 3   rating         38224 non-null  int64 \n",
      " 4   Win/Lose/Draw  38224 non-null  object\n",
      "dtypes: int64(2), object(3)\n",
      "memory usage: 1.5+ MB\n"
     ]
    },
    {
     "data": {
      "text/html": [
       "<div>\n",
       "<style scoped>\n",
       "    .dataframe tbody tr th:only-of-type {\n",
       "        vertical-align: middle;\n",
       "    }\n",
       "\n",
       "    .dataframe tbody tr th {\n",
       "        vertical-align: top;\n",
       "    }\n",
       "\n",
       "    .dataframe thead th {\n",
       "        text-align: right;\n",
       "    }\n",
       "</style>\n",
       "<table border=\"1\" class=\"dataframe\">\n",
       "  <thead>\n",
       "    <tr style=\"text-align: right;\">\n",
       "      <th></th>\n",
       "      <th>game_id</th>\n",
       "      <th>winner</th>\n",
       "      <th>player_id</th>\n",
       "      <th>rating</th>\n",
       "      <th>Win/Lose/Draw</th>\n",
       "    </tr>\n",
       "  </thead>\n",
       "  <tbody>\n",
       "    <tr>\n",
       "      <th>36776</th>\n",
       "      <td>18424</td>\n",
       "      <td>White</td>\n",
       "      <td>sayed797</td>\n",
       "      <td>1500</td>\n",
       "      <td>Lose</td>\n",
       "    </tr>\n",
       "    <tr>\n",
       "      <th>28126</th>\n",
       "      <td>9032</td>\n",
       "      <td>White</td>\n",
       "      <td>kolia09</td>\n",
       "      <td>1858</td>\n",
       "      <td>Lose</td>\n",
       "    </tr>\n",
       "    <tr>\n",
       "      <th>1330</th>\n",
       "      <td>1332</td>\n",
       "      <td>Black</td>\n",
       "      <td>posra</td>\n",
       "      <td>1226</td>\n",
       "      <td>Lose</td>\n",
       "    </tr>\n",
       "    <tr>\n",
       "      <th>31043</th>\n",
       "      <td>12086</td>\n",
       "      <td>White</td>\n",
       "      <td>rajesh170293</td>\n",
       "      <td>1221</td>\n",
       "      <td>Lose</td>\n",
       "    </tr>\n",
       "    <tr>\n",
       "      <th>35777</th>\n",
       "      <td>17371</td>\n",
       "      <td>White</td>\n",
       "      <td>mikhail_riemann</td>\n",
       "      <td>1789</td>\n",
       "      <td>Lose</td>\n",
       "    </tr>\n",
       "  </tbody>\n",
       "</table>\n",
       "</div>"
      ],
      "text/plain": [
       "       game_id winner        player_id  rating Win/Lose/Draw\n",
       "36776    18424  White         sayed797    1500          Lose\n",
       "28126     9032  White          kolia09    1858          Lose\n",
       "1330      1332  Black            posra    1226          Lose\n",
       "31043    12086  White     rajesh170293    1221          Lose\n",
       "35777    17371  White  mikhail_riemann    1789          Lose"
      ]
     },
     "execution_count": 292,
     "metadata": {},
     "output_type": "execute_result"
    }
   ],
   "source": [
    "df_players.info()\n",
    "df_players.sample(5)"
   ]
  },
  {
   "cell_type": "markdown",
   "id": "39c721a6-681c-41ef-9bad-5a58948d026f",
   "metadata": {},
   "source": [
    "# Data Analysis"
   ]
  },
  {
   "cell_type": "code",
   "execution_count": 293,
   "id": "f84fef31-5311-4e05-9870-d77fdb671905",
   "metadata": {},
   "outputs": [],
   "source": [
    "# function for print probably in every question\n",
    "def print_sample(x: str) -> str:\n",
    "    center = x.center(150)\n",
    "    text = print(150*'-', '\\n', center, '\\n', 150*'-')\n",
    "    return text"
   ]
  },
  {
   "cell_type": "markdown",
   "id": "6c7c5c7a-9f37-4c5d-ae78-473a41f7ab0a",
   "metadata": {},
   "source": [
    "## 1. What percentage of games is won by the higher-rated player? Does it depends on whether they play as White or Black?"
   ]
  },
  {
   "cell_type": "code",
   "execution_count": 294,
   "id": "ec579957-6ec5-4d9d-aa3f-4a2078d8db72",
   "metadata": {},
   "outputs": [
    {
     "name": "stdout",
     "output_type": "stream",
     "text": [
      "------------------------------------------------------------------------------------------------------------------------------------------------------ \n",
      " Around 2/3 of games are won by a higher-rated player. Playing as black/white dont make any difference, statistics for both sides are pretty identical  \n",
      " ------------------------------------------------------------------------------------------------------------------------------------------------------\n"
     ]
    },
    {
     "data": {
      "image/png": "[encoded data removed]",
      "text/plain": [
       "<Figure size 640x480 with 1 Axes>"
      ]
     },
     "metadata": {},
     "output_type": "display_data"
    }
   ],
   "source": [
    "df_question1 = df[\n",
    "    (df['winner'] != 'Draw') & \n",
    "    (df['winner_by_player_rating'] != 'Equal rating')]\n",
    "\n",
    "df_question1 = df_question1.groupby(['winner', 'winner_by_player_rating']).agg(\n",
    "    Total_games = ('game_id', 'count'))\n",
    "\n",
    "df_question1['total_games_each_category'] = df_question1.groupby('winner')['Total_games'].transform('sum')\n",
    "df_question1['win_rate'] = round((df_question1['Total_games'] / df_question1['total_games_each_category']) * 100, 2)\n",
    "\n",
    "sns.barplot(data = df_question1, x = 'winner', y = 'win_rate', hue = 'winner_by_player_rating')\n",
    "plt.title('Winner vs Player rating')\n",
    "plt.ylabel('Win Rate (%)')\n",
    "plt.xlabel('Winner')\n",
    "plt.legend(title = 'Who won', fontsize = 8)\n",
    "plt.margins(x = 0.2)\n",
    "print_sample('Around 2/3 of games are won by a higher-rated player. Playing as black/white dont make any difference, statistics for both sides are pretty identical')\n",
    "plt.show()"
   ]
  },
  {
   "cell_type": "markdown",
   "id": "3df48b5b-1866-463f-a293-0ea85b4cda6b",
   "metadata": {},
   "source": [
    "## 2. What percentage of games are won by white? How many of them end with checkmate?"
   ]
  },
  {
   "cell_type": "code",
   "execution_count": 295,
   "id": "12ae7171-e5c9-4cb9-ba8c-27b96fb6a203",
   "metadata": {},
   "outputs": [
    {
     "name": "stdout",
     "output_type": "stream",
     "text": [
      "------------------------------------------------------------------------------------------------------------------------------------------------------ \n",
      "       White has a slightly better overall win ratio than black, around 30% of white won games ends with checkmate (most of them end with resign)       \n",
      " ------------------------------------------------------------------------------------------------------------------------------------------------------\n"
     ]
    },
    {
     "data": {
      "image/png": "[encoded data removed]",
      "text/plain": [
       "<Figure size 640x480 with 1 Axes>"
      ]
     },
     "metadata": {},
     "output_type": "display_data"
    }
   ],
   "source": [
    "df_question2 = df.groupby(['winner', 'victory_status']).agg(\n",
    "    Total_games = ('game_id', 'count'))\n",
    "\n",
    "df_question2['total_games_each_category'] = df_question2['Total_games'].sum()\n",
    "df_question2['win_rate'] = round((df_question2['Total_games'] / df_question2['total_games_each_category']) * 100, 2)\n",
    "\n",
    "sns.barplot(data = df_question2, x = 'winner', y = 'win_rate', hue = 'victory_status')\n",
    "plt.title('Win conditions by game result')\n",
    "plt.ylabel('Win Rate (%)')\n",
    "plt.xlabel('Winner')\n",
    "plt.legend(title = 'Win condition', fontsize = 8)\n",
    "plt.margins(x = 0.2)\n",
    "print_sample('White has a slightly better overall win ratio than black, around 30% of white won games ends with checkmate (most of them end with resign)')\n",
    "plt.show()"
   ]
  },
  {
   "cell_type": "markdown",
   "id": "fdb7c696-6ddb-4275-8845-d615ac6ee833",
   "metadata": {},
   "source": [
    "## 3. What were the most common first moves in games where White won? And which ones in games where Black won?"
   ]
  },
  {
   "cell_type": "code",
   "execution_count": 296,
   "id": "c2f991d6-b409-4539-b9bd-743d51ebfcc3",
   "metadata": {},
   "outputs": [
    {
     "name": "stdout",
     "output_type": "stream",
     "text": [
      "------------------------------------------------------------------------------------------------------------------------------------------------------ \n",
      " The most popular first moves are the same for both Black and White. Slightly more games begin with these moves on the White side, likely because White has a marginally higher win rate overall \n",
      " ------------------------------------------------------------------------------------------------------------------------------------------------------\n"
     ]
    },
    {
     "data": {
      "image/png": "[encoded data removed]",
      "text/plain": [
       "<Figure size 640x480 with 1 Axes>"
      ]
     },
     "metadata": {},
     "output_type": "display_data"
    }
   ],
   "source": [
    "df_question3 = df[df['winner'] != 'Draw']\n",
    "\n",
    "df_question3 = df_question3.groupby(['winner', 'first_move']).agg(\n",
    "    Total_games = ('game_id', 'count'))\n",
    "\n",
    "df_question3 = df_question3.sort_values(['winner', 'Total_games'], ascending = [False, False]).groupby('winner').head(3)\n",
    "\n",
    "sns.barplot(data = df_question3, x = 'winner', y = 'Total_games', hue = 'first_move')\n",
    "plt.title('Top 3 first moves where White or Black won')\n",
    "plt.legend(title = 'First Move', fontsize = 15)\n",
    "plt.xlabel('Winner')\n",
    "plt.ylabel('Total games')\n",
    "print_sample('The most popular first moves are the same for both Black and White. Slightly more games begin with these moves on the White side, likely because White has a marginally higher win rate overall')\n",
    "plt.show()"
   ]
  },
  {
   "cell_type": "markdown",
   "id": "bc69362f-ee46-45fd-8b4a-4ec93106bbc2",
   "metadata": {},
   "source": [
    "## 4. Which player has the highest amount of won games? What was his winrate?"
   ]
  },
  {
   "cell_type": "code",
   "execution_count": 297,
   "id": "2cffb3f9-98db-4182-b96a-4158eaf70519",
   "metadata": {},
   "outputs": [
    {
     "name": "stdout",
     "output_type": "stream",
     "text": [
      "------------------------------------------------------------------------------------------------------------------------------------------------------ \n",
      "                                       Player chesscarl has the highest number of won games with 97,83% win ratio                                       \n",
      " ------------------------------------------------------------------------------------------------------------------------------------------------------\n"
     ]
    },
    {
     "data": {
      "text/html": [
       "<div>\n",
       "<style scoped>\n",
       "    .dataframe tbody tr th:only-of-type {\n",
       "        vertical-align: middle;\n",
       "    }\n",
       "\n",
       "    .dataframe tbody tr th {\n",
       "        vertical-align: top;\n",
       "    }\n",
       "\n",
       "    .dataframe thead th {\n",
       "        text-align: right;\n",
       "    }\n",
       "</style>\n",
       "<table border=\"1\" class=\"dataframe\">\n",
       "  <thead>\n",
       "    <tr style=\"text-align: right;\">\n",
       "      <th>Win/Lose/Draw</th>\n",
       "      <th>Draw</th>\n",
       "      <th>Lose</th>\n",
       "      <th>Win</th>\n",
       "      <th>Total_games</th>\n",
       "      <th>Win Rate</th>\n",
       "    </tr>\n",
       "    <tr>\n",
       "      <th>player_id</th>\n",
       "      <th></th>\n",
       "      <th></th>\n",
       "      <th></th>\n",
       "      <th></th>\n",
       "      <th></th>\n",
       "    </tr>\n",
       "  </thead>\n",
       "  <tbody>\n",
       "    <tr>\n",
       "      <th>chesscarl</th>\n",
       "      <td>0</td>\n",
       "      <td>1</td>\n",
       "      <td>45</td>\n",
       "      <td>46</td>\n",
       "      <td>97.83</td>\n",
       "    </tr>\n",
       "    <tr>\n",
       "      <th>doraemon61</th>\n",
       "      <td>2</td>\n",
       "      <td>2</td>\n",
       "      <td>38</td>\n",
       "      <td>42</td>\n",
       "      <td>90.48</td>\n",
       "    </tr>\n",
       "    <tr>\n",
       "      <th>smilsydov</th>\n",
       "      <td>0</td>\n",
       "      <td>2</td>\n",
       "      <td>36</td>\n",
       "      <td>38</td>\n",
       "      <td>94.74</td>\n",
       "    </tr>\n",
       "    <tr>\n",
       "      <th>elvis1997</th>\n",
       "      <td>1</td>\n",
       "      <td>4</td>\n",
       "      <td>33</td>\n",
       "      <td>38</td>\n",
       "      <td>86.84</td>\n",
       "    </tr>\n",
       "    <tr>\n",
       "      <th>brandonbos</th>\n",
       "      <td>1</td>\n",
       "      <td>11</td>\n",
       "      <td>33</td>\n",
       "      <td>45</td>\n",
       "      <td>73.33</td>\n",
       "    </tr>\n",
       "  </tbody>\n",
       "</table>\n",
       "</div>"
      ],
      "text/plain": [
       "Win/Lose/Draw  Draw  Lose  Win  Total_games  Win Rate\n",
       "player_id                                            \n",
       "chesscarl         0     1   45           46     97.83\n",
       "doraemon61        2     2   38           42     90.48\n",
       "smilsydov         0     2   36           38     94.74\n",
       "elvis1997         1     4   33           38     86.84\n",
       "brandonbos        1    11   33           45     73.33"
      ]
     },
     "execution_count": 297,
     "metadata": {},
     "output_type": "execute_result"
    }
   ],
   "source": [
    "df_question4 = df_players.groupby(['player_id', 'Win/Lose/Draw']).agg(\n",
    "    Total_games = ('game_id', 'count')).reset_index()\n",
    "\n",
    "df_question4 = df_question4.pivot(index = 'player_id', columns = 'Win/Lose/Draw', values = 'Total_games')\n",
    "\n",
    "for i in df_question4.columns:\n",
    "    df_question4[i] = df_question4[i].fillna(0).astype(int)\n",
    "\n",
    "df_question4['Total_games'] = df_question4['Win'] + df_question4['Lose'] + df_question4['Draw']\n",
    "df_question4['Win Rate'] = round((df_question4['Win'] / df_question4['Total_games']) * 100, 2)\n",
    "print_sample('Player chesscarl has the highest number of won games with 97,83% win ratio')\n",
    "df_question4.sort_values('Win', ascending = False).head(5)"
   ]
  },
  {
   "cell_type": "markdown",
   "id": "4a1fc9f4-b083-4667-adc6-40277704c5c2",
   "metadata": {},
   "source": [
    "## 5. More turns in game = black wins more often?"
   ]
  },
  {
   "cell_type": "code",
   "execution_count": 298,
   "id": "86f32fc3-3d4f-46ac-b222-ffe410201801",
   "metadata": {},
   "outputs": [
    {
     "name": "stdout",
     "output_type": "stream",
     "text": [
      "------------------------------------------------------------------------------------------------------------------------------------------------------ \n",
      "                                               That is true, in longer games black is winning more often                                                \n",
      " ------------------------------------------------------------------------------------------------------------------------------------------------------\n"
     ]
    },
    {
     "data": {
      "image/png": "[encoded data removed]",
      "text/plain": [
       "<Figure size 640x480 with 1 Axes>"
      ]
     },
     "metadata": {},
     "output_type": "display_data"
    }
   ],
   "source": [
    "turns_order = {\n",
    "    '1-10 turns': 0,\n",
    "    '11-30 turns': 1,\n",
    "    '31-60 turns': 2,\n",
    "    '61-100 turns': 3,\n",
    "    '101+ turns': 4\n",
    "}\n",
    "\n",
    "df_question5 = df[df['winner'] != 'Draw']\n",
    "\n",
    "df_question5 = df_question5.groupby(['turns(bins)', 'winner']).agg(\n",
    "    Total_games = ('game_id', 'count')).reset_index()\n",
    "\n",
    "df_question5['turns_order'] = df_question5['turns(bins)'].map(turns_order)\n",
    "\n",
    "df_question5['Total_games_sum'] = df_question5.groupby('turns(bins)')['Total_games'].transform('sum')\n",
    "df_question5 = df_question5.sort_values('turns_order').drop(columns = 'turns_order')\n",
    "\n",
    "df_question5['Total_games'] = round((df_question5['Total_games'] / df_question5['Total_games_sum']) * 100, 2)\n",
    "\n",
    "sns.lineplot(data = df_question5, x = 'turns(bins)', y = 'Total_games', hue = 'winner')\n",
    "plt.title('Win ratio depending on game duration (measured by turns)')\n",
    "plt.legend(fontsize = 12)\n",
    "plt.xlabel('Turns')\n",
    "plt.ylabel('Win rate (%)')\n",
    "print_sample('That is true, in longer games black is winning more often')\n",
    "plt.show()\n"
   ]
  },
  {
   "cell_type": "markdown",
   "id": "eee3813b-5a39-458e-aad8-7ad5f918102b",
   "metadata": {},
   "source": [
    "## 6. What are the best openings for black against white and vice versa? (based on atleast 50 games for each opening)"
   ]
  },
  {
   "cell_type": "code",
   "execution_count": 299,
   "id": "82c44955-9368-4db5-8065-c56a664ab0c2",
   "metadata": {},
   "outputs": [
    {
     "name": "stdout",
     "output_type": "stream",
     "text": [
      "------------------------------------------------------------------------------------------------------------------------------------------------------ \n",
      "                                      Top 5 openings for Black and White with highest win ratio (atleast 50 games)                                      \n",
      " ------------------------------------------------------------------------------------------------------------------------------------------------------\n"
     ]
    },
    {
     "data": {
      "text/html": [
       "<div>\n",
       "<style scoped>\n",
       "    .dataframe tbody tr th:only-of-type {\n",
       "        vertical-align: middle;\n",
       "    }\n",
       "\n",
       "    .dataframe tbody tr th {\n",
       "        vertical-align: top;\n",
       "    }\n",
       "\n",
       "    .dataframe thead th {\n",
       "        text-align: right;\n",
       "    }\n",
       "</style>\n",
       "<table border=\"1\" class=\"dataframe\">\n",
       "  <thead>\n",
       "    <tr style=\"text-align: right;\">\n",
       "      <th></th>\n",
       "      <th>Color</th>\n",
       "      <th>Opening</th>\n",
       "      <th>Win ratio</th>\n",
       "    </tr>\n",
       "  </thead>\n",
       "  <tbody>\n",
       "    <tr>\n",
       "      <th>0</th>\n",
       "      <td>Black</td>\n",
       "      <td>Van't Kruijs Opening</td>\n",
       "      <td>64.22</td>\n",
       "    </tr>\n",
       "    <tr>\n",
       "      <th>1</th>\n",
       "      <td>Black</td>\n",
       "      <td>Mieses Opening</td>\n",
       "      <td>61.62</td>\n",
       "    </tr>\n",
       "    <tr>\n",
       "      <th>2</th>\n",
       "      <td>Black</td>\n",
       "      <td>Van Geet Opening</td>\n",
       "      <td>59.26</td>\n",
       "    </tr>\n",
       "    <tr>\n",
       "      <th>3</th>\n",
       "      <td>Black</td>\n",
       "      <td>Indian Game</td>\n",
       "      <td>58.56</td>\n",
       "    </tr>\n",
       "    <tr>\n",
       "      <th>4</th>\n",
       "      <td>Black</td>\n",
       "      <td>Ponziani Opening</td>\n",
       "      <td>57.38</td>\n",
       "    </tr>\n",
       "    <tr>\n",
       "      <th>5</th>\n",
       "      <td>White</td>\n",
       "      <td>Queen's Pawn</td>\n",
       "      <td>68.55</td>\n",
       "    </tr>\n",
       "    <tr>\n",
       "      <th>6</th>\n",
       "      <td>White</td>\n",
       "      <td>Nimzowitsch Defense</td>\n",
       "      <td>66.99</td>\n",
       "    </tr>\n",
       "    <tr>\n",
       "      <th>7</th>\n",
       "      <td>White</td>\n",
       "      <td>King's Indian Attack</td>\n",
       "      <td>64.52</td>\n",
       "    </tr>\n",
       "    <tr>\n",
       "      <th>8</th>\n",
       "      <td>White</td>\n",
       "      <td>Rat Defense</td>\n",
       "      <td>63.86</td>\n",
       "    </tr>\n",
       "    <tr>\n",
       "      <th>9</th>\n",
       "      <td>White</td>\n",
       "      <td>Elephant Gambit</td>\n",
       "      <td>62.69</td>\n",
       "    </tr>\n",
       "  </tbody>\n",
       "</table>\n",
       "</div>"
      ],
      "text/plain": [
       "   Color               Opening  Win ratio\n",
       "0  Black  Van't Kruijs Opening      64.22\n",
       "1  Black        Mieses Opening      61.62\n",
       "2  Black      Van Geet Opening      59.26\n",
       "3  Black           Indian Game      58.56\n",
       "4  Black      Ponziani Opening      57.38\n",
       "5  White          Queen's Pawn      68.55\n",
       "6  White   Nimzowitsch Defense      66.99\n",
       "7  White  King's Indian Attack      64.52\n",
       "8  White           Rat Defense      63.86\n",
       "9  White       Elephant Gambit      62.69"
      ]
     },
     "execution_count": 299,
     "metadata": {},
     "output_type": "execute_result"
    }
   ],
   "source": [
    "df_question6 = df[df['winner'] != 'Draw']\n",
    "\n",
    "df_question6 = df_question6.groupby(['opening_shortname', 'winner']).agg(\n",
    "    Total_games = ('game_id', 'count'))\n",
    "\n",
    "df_question6['Total'] = df_question6.groupby('opening_shortname').transform('sum')\n",
    "df_question6['Total_games'] = round((df_question6['Total_games'] / df_question6['Total']) * 100, 2)\n",
    "\n",
    "df_question6 = df_question6[df_question6['Total'] >= 50]\n",
    "df_question6 = df_question6.sort_values(['winner', 'Total_games'], ascending = [True, False])\n",
    "df_question6 = df_question6.groupby('winner').head(5).reset_index()\n",
    "df_question6.drop(columns = 'Total')\n",
    "df_question6 = df_question6[['winner', 'opening_shortname', 'Total_games']]\n",
    "df_question6.columns = ['Color', 'Opening', 'Win ratio']\n",
    "print_sample('Top 5 openings for Black and White with highest win ratio (atleast 50 games)')\n",
    "df_question6"
   ]
  }
 ],
 "metadata": {
  "kernelspec": {
   "display_name": "Python 3 (ipykernel)",
   "language": "python",
   "name": "python3"
  },
  "language_info": {
   "codemirror_mode": {
    "name": "ipython",
    "version": 3
   },
   "file_extension": ".py",
   "mimetype": "text/x-python",
   "name": "python",
   "nbconvert_exporter": "python",
   "pygments_lexer": "ipython3",
   "version": "3.12.7"
  }
 },
 "nbformat": 4,
 "nbformat_minor": 5
}
